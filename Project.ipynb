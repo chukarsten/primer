{
 "cells": [
  {
   "cell_type": "markdown",
   "metadata": {},
   "source": [
    "# Import Necessary Libraries"
   ]
  },
  {
   "cell_type": "code",
   "execution_count": 92,
   "metadata": {
    "ExecuteTime": {
     "end_time": "2020-11-10T01:55:36.332039Z",
     "start_time": "2020-11-10T01:55:36.326055Z"
    }
   },
   "outputs": [],
   "source": [
    "import json\n",
    "import re\n",
    "import sys\n",
    "import os\n",
    "import pandas as pd\n",
    "import numpy as np\n",
    "import matplotlib.pyplot as plt\n",
    "import inflection as inf\n",
    "import geopandas\n",
    "from datetime import timedelta, datetime, timezone\n",
    "from datetime import datetime as dt\n",
    "from collections import Counter\n",
    "from nltk.corpus import stopwords\n",
    "from scipy.signal import argrelextrema\n",
    "from shapely.geometry import Point, Polygon\n",
    "from matplotlib.animation import FuncAnimation\n",
    "from matplotlib.offsetbox import AnchoredText\n",
    "pd.options.mode.chained_assignment = None"
   ]
  },
  {
   "cell_type": "markdown",
   "metadata": {},
   "source": [
    "## ImageMagick\n",
    "To run the .gif maker in the topic geotracker, the user needs to install ImageMagick.  The Windows binary can be fouond here : https://imagemagick.org/download/binaries/ImageMagick-7.0.10-37-Q16-HDRI-x64-dll.exe"
   ]
  },
  {
   "cell_type": "markdown",
   "metadata": {},
   "source": [
    "# Load Corpus Data"
   ]
  },
  {
   "cell_type": "code",
   "execution_count": 94,
   "metadata": {
    "ExecuteTime": {
     "end_time": "2020-11-10T01:55:48.606865Z",
     "start_time": "2020-11-10T01:55:47.790049Z"
    }
   },
   "outputs": [
    {
     "data": {
      "text/html": [
       "<div>\n",
       "<style scoped>\n",
       "    .dataframe tbody tr th:only-of-type {\n",
       "        vertical-align: middle;\n",
       "    }\n",
       "\n",
       "    .dataframe tbody tr th {\n",
       "        vertical-align: top;\n",
       "    }\n",
       "\n",
       "    .dataframe thead th {\n",
       "        text-align: right;\n",
       "    }\n",
       "</style>\n",
       "<table border=\"1\" class=\"dataframe\">\n",
       "  <thead>\n",
       "    <tr style=\"text-align: right;\">\n",
       "      <th></th>\n",
       "      <th>event_id</th>\n",
       "      <th>content</th>\n",
       "      <th>title</th>\n",
       "      <th>date</th>\n",
       "      <th>sources</th>\n",
       "      <th>people</th>\n",
       "      <th>organizations</th>\n",
       "      <th>locations</th>\n",
       "      <th>id</th>\n",
       "      <th>summary</th>\n",
       "    </tr>\n",
       "  </thead>\n",
       "  <tbody>\n",
       "    <tr>\n",
       "      <th>0</th>\n",
       "      <td>4a68a737-a357-47ea-a4b9-afe4f3c1f460</td>\n",
       "      <td>FLAGSTAFF, Ariz.  -- An excavator used to clea...</td>\n",
       "      <td>Spark from wildfire-prevention efforts likely ...</td>\n",
       "      <td>2019-09-13T18:17:35Z</td>\n",
       "      <td>[ABC7NY]</td>\n",
       "      <td>[8e7aff20-4281-5023-8407-f43e5ba289e4, 4fc245e...</td>\n",
       "      <td>[9d4d391e-a27d-4b76-a783-7ce20c9160a0]</td>\n",
       "      <td>[28152159-6443-50c6-864c-f6e9920c9232, 15f3e2e...</td>\n",
       "      <td>7ac25cda-aec2-5af1-a937-4fee15ea35ba</td>\n",
       "      <td>The excavator was working on steep slopes near...</td>\n",
       "    </tr>\n",
       "    <tr>\n",
       "      <th>1</th>\n",
       "      <td>3b4e3874-2034-4cc7-9929-09d60f1092e7</td>\n",
       "      <td>“Wildfire raging through the Paradise region i...</td>\n",
       "      <td>Conditions of the California wildfire reflect ...</td>\n",
       "      <td>2018-11-16T12:53:23Z</td>\n",
       "      <td>[ShowMe Plettenberg Bay]</td>\n",
       "      <td>[0aa3184c-c835-5afa-a5e7-656c37a08a7b, 193958f...</td>\n",
       "      <td>[153dc210-6604-4db6-b374-d9167690f2cf]</td>\n",
       "      <td>[dfbf9ad3-9e72-5ba9-99ac-fd32ca480ac1, 2ac73e0...</td>\n",
       "      <td>b04dba07-ffc0-5a49-be3b-6eaaf57150e2</td>\n",
       "      <td>\"Wildfire raging through the Paradise region i...</td>\n",
       "    </tr>\n",
       "    <tr>\n",
       "      <th>2</th>\n",
       "      <td>d3c463cc-0b2f-4e51-9f99-f2f6cfc90d0f</td>\n",
       "      <td>Montanans were fortunate this year’s wildfire ...</td>\n",
       "      <td>Hazardous homes increasing wildfire risks, costs</td>\n",
       "      <td>2018-09-27T19:14:34Z</td>\n",
       "      <td>[Bozeman Daily Chronicle]</td>\n",
       "      <td>[a9637d0a-7c6a-5eeb-8f5c-947d3fea81bd]</td>\n",
       "      <td>[81029b9e-056b-4213-8595-f53c7555d4ae]</td>\n",
       "      <td>[1709e49c-551f-5a2d-87a2-d84942ac24a0, 7534d4a...</td>\n",
       "      <td>71e746b0-9de5-5602-a7ca-deceb760ab83</td>\n",
       "      <td>In Gallatin County there are 3,848 homes in ar...</td>\n",
       "    </tr>\n",
       "    <tr>\n",
       "      <th>3</th>\n",
       "      <td>0d357eaa-cf9c-406b-a551-503832c6dd5b</td>\n",
       "      <td>1 Introduction  \\nLarge wildfires are increasi...</td>\n",
       "      <td>Resilience to Large, “Catastrophic” Wildfires ...</td>\n",
       "      <td>2020-07-09T12:13:46Z</td>\n",
       "      <td>[Earth's Future]</td>\n",
       "      <td>[6eac2fd9-b19b-5a66-b2a0-cfba00919fc9, 8cdbbf2...</td>\n",
       "      <td>[5eb2f096-ed8a-4aa9-9f8d-e2bdb45cd7da, 6a97278...</td>\n",
       "      <td>[7b656f8b-97f4-5ca3-b533-2d9030312b44, 04557f0...</td>\n",
       "      <td>4d73f52b-d24d-5314-952e-5d42272c470b</td>\n",
       "      <td>First, we expect that vegetation functional gr...</td>\n",
       "    </tr>\n",
       "    <tr>\n",
       "      <th>4</th>\n",
       "      <td>f0365861-6f2f-42bc-a0ef-35d2c5e52d00</td>\n",
       "      <td>Discussing wildfire protection and management ...</td>\n",
       "      <td>Rod Rose, Bushfire Management Expert</td>\n",
       "      <td>2020-04-28T16:01:45Z</td>\n",
       "      <td>[CSR Wire]</td>\n",
       "      <td>[d18aeb90-b77f-5f80-aaa9-98058b97d922]</td>\n",
       "      <td>[8f808d10-96da-41fa-a477-62802c44b98f, fb58c4b...</td>\n",
       "      <td>[4fbe630c-4a31-5847-a4c0-333ad0fb9072, 7b656f8...</td>\n",
       "      <td>05c861d4-887a-544e-a309-ae9fe36e4366</td>\n",
       "      <td>Rod won the Fire Protection Association of Aus...</td>\n",
       "    </tr>\n",
       "  </tbody>\n",
       "</table>\n",
       "</div>"
      ],
      "text/plain": [
       "                               event_id  \\\n",
       "0  4a68a737-a357-47ea-a4b9-afe4f3c1f460   \n",
       "1  3b4e3874-2034-4cc7-9929-09d60f1092e7   \n",
       "2  d3c463cc-0b2f-4e51-9f99-f2f6cfc90d0f   \n",
       "3  0d357eaa-cf9c-406b-a551-503832c6dd5b   \n",
       "4  f0365861-6f2f-42bc-a0ef-35d2c5e52d00   \n",
       "\n",
       "                                             content  \\\n",
       "0  FLAGSTAFF, Ariz.  -- An excavator used to clea...   \n",
       "1  “Wildfire raging through the Paradise region i...   \n",
       "2  Montanans were fortunate this year’s wildfire ...   \n",
       "3  1 Introduction  \\nLarge wildfires are increasi...   \n",
       "4  Discussing wildfire protection and management ...   \n",
       "\n",
       "                                               title                  date  \\\n",
       "0  Spark from wildfire-prevention efforts likely ...  2019-09-13T18:17:35Z   \n",
       "1  Conditions of the California wildfire reflect ...  2018-11-16T12:53:23Z   \n",
       "2   Hazardous homes increasing wildfire risks, costs  2018-09-27T19:14:34Z   \n",
       "3  Resilience to Large, “Catastrophic” Wildfires ...  2020-07-09T12:13:46Z   \n",
       "4               Rod Rose, Bushfire Management Expert  2020-04-28T16:01:45Z   \n",
       "\n",
       "                     sources  \\\n",
       "0                   [ABC7NY]   \n",
       "1   [ShowMe Plettenberg Bay]   \n",
       "2  [Bozeman Daily Chronicle]   \n",
       "3           [Earth's Future]   \n",
       "4                 [CSR Wire]   \n",
       "\n",
       "                                              people  \\\n",
       "0  [8e7aff20-4281-5023-8407-f43e5ba289e4, 4fc245e...   \n",
       "1  [0aa3184c-c835-5afa-a5e7-656c37a08a7b, 193958f...   \n",
       "2             [a9637d0a-7c6a-5eeb-8f5c-947d3fea81bd]   \n",
       "3  [6eac2fd9-b19b-5a66-b2a0-cfba00919fc9, 8cdbbf2...   \n",
       "4             [d18aeb90-b77f-5f80-aaa9-98058b97d922]   \n",
       "\n",
       "                                       organizations  \\\n",
       "0             [9d4d391e-a27d-4b76-a783-7ce20c9160a0]   \n",
       "1             [153dc210-6604-4db6-b374-d9167690f2cf]   \n",
       "2             [81029b9e-056b-4213-8595-f53c7555d4ae]   \n",
       "3  [5eb2f096-ed8a-4aa9-9f8d-e2bdb45cd7da, 6a97278...   \n",
       "4  [8f808d10-96da-41fa-a477-62802c44b98f, fb58c4b...   \n",
       "\n",
       "                                           locations  \\\n",
       "0  [28152159-6443-50c6-864c-f6e9920c9232, 15f3e2e...   \n",
       "1  [dfbf9ad3-9e72-5ba9-99ac-fd32ca480ac1, 2ac73e0...   \n",
       "2  [1709e49c-551f-5a2d-87a2-d84942ac24a0, 7534d4a...   \n",
       "3  [7b656f8b-97f4-5ca3-b533-2d9030312b44, 04557f0...   \n",
       "4  [4fbe630c-4a31-5847-a4c0-333ad0fb9072, 7b656f8...   \n",
       "\n",
       "                                     id  \\\n",
       "0  7ac25cda-aec2-5af1-a937-4fee15ea35ba   \n",
       "1  b04dba07-ffc0-5a49-be3b-6eaaf57150e2   \n",
       "2  71e746b0-9de5-5602-a7ca-deceb760ab83   \n",
       "3  4d73f52b-d24d-5314-952e-5d42272c470b   \n",
       "4  05c861d4-887a-544e-a309-ae9fe36e4366   \n",
       "\n",
       "                                             summary  \n",
       "0  The excavator was working on steep slopes near...  \n",
       "1  \"Wildfire raging through the Paradise region i...  \n",
       "2  In Gallatin County there are 3,848 homes in ar...  \n",
       "3  First, we expect that vegetation functional gr...  \n",
       "4  Rod won the Fire Protection Association of Aus...  "
      ]
     },
     "execution_count": 94,
     "metadata": {},
     "output_type": "execute_result"
    }
   ],
   "source": [
    "with open(os.path.join(\"data\", \"docs.json\")) as json_file:\n",
    "    data = json.load(json_file)\n",
    "df = pd.json_normalize(data)\n",
    "df.head()"
   ]
  },
  {
   "cell_type": "markdown",
   "metadata": {},
   "source": [
    "# Data Manipulation\n",
    "## Date\n",
    "In order to enable time series creation, sorting and extraction of specific time windows, the date column will be converted to a native python datetime data structure."
   ]
  },
  {
   "cell_type": "code",
   "execution_count": 70,
   "metadata": {
    "ExecuteTime": {
     "end_time": "2020-11-10T00:11:33.997662Z",
     "start_time": "2020-11-10T00:11:33.976114Z"
    }
   },
   "outputs": [],
   "source": [
    "df[\"date\"] = pd.to_datetime(df[\"date\"])\n",
    "df.sort_values(\"date\", inplace=True)"
   ]
  },
  {
   "cell_type": "markdown",
   "metadata": {},
   "source": [
    "## Data Imputation\n",
    "To facilitate the searching of the corpus, missing values for the document content, title and summary will be imputed as empty strings."
   ]
  },
  {
   "cell_type": "code",
   "execution_count": 71,
   "metadata": {
    "ExecuteTime": {
     "end_time": "2020-11-10T00:11:34.007584Z",
     "start_time": "2020-11-10T00:11:33.998621Z"
    }
   },
   "outputs": [],
   "source": [
    "for column in [\"content\", \"title\", \"summary\"]:\n",
    "    df[column].fillna(\"\", inplace=True)"
   ]
  },
  {
   "cell_type": "markdown",
   "metadata": {},
   "source": [
    "# Time Series Creation"
   ]
  },
  {
   "cell_type": "markdown",
   "metadata": {},
   "source": [
    "## Limit the Corpus to Single Topic"
   ]
  },
  {
   "cell_type": "code",
   "execution_count": 72,
   "metadata": {
    "ExecuteTime": {
     "end_time": "2020-11-10T00:11:34.051466Z",
     "start_time": "2020-11-10T00:11:34.008583Z"
    }
   },
   "outputs": [
    {
     "data": {
      "text/html": [
       "<div>\n",
       "<style scoped>\n",
       "    .dataframe tbody tr th:only-of-type {\n",
       "        vertical-align: middle;\n",
       "    }\n",
       "\n",
       "    .dataframe tbody tr th {\n",
       "        vertical-align: top;\n",
       "    }\n",
       "\n",
       "    .dataframe thead th {\n",
       "        text-align: right;\n",
       "    }\n",
       "</style>\n",
       "<table border=\"1\" class=\"dataframe\">\n",
       "  <thead>\n",
       "    <tr style=\"text-align: right;\">\n",
       "      <th></th>\n",
       "      <th>event_id</th>\n",
       "      <th>content</th>\n",
       "      <th>title</th>\n",
       "      <th>date</th>\n",
       "      <th>sources</th>\n",
       "      <th>people</th>\n",
       "      <th>organizations</th>\n",
       "      <th>locations</th>\n",
       "      <th>id</th>\n",
       "      <th>summary</th>\n",
       "    </tr>\n",
       "  </thead>\n",
       "  <tbody>\n",
       "    <tr>\n",
       "      <th>8718</th>\n",
       "      <td>a8e3d54f-6a69-4abb-a948-26a482b7a845</td>\n",
       "      <td>CLOSED – #BCHwy97 in both direction 1 km north...</td>\n",
       "      <td>Update: Highway 97 closed as crews fight wildf...</td>\n",
       "      <td>2018-09-01 01:27:58+00:00</td>\n",
       "      <td>[Revelstoke Times Review, Revelstoke Times Rev...</td>\n",
       "      <td>[6002fee2-1381-560c-a955-0c5691680639]</td>\n",
       "      <td>[5074dfec-cba3-495d-8793-02bf28ce1395, 7ce95b9...</td>\n",
       "      <td>[]</td>\n",
       "      <td>83f536e8-fa10-5d49-ad50-2ad456f5cbf0</td>\n",
       "      <td>Update 6:25 p.m.  Highway 97 near Okanagan Fal...</td>\n",
       "    </tr>\n",
       "    <tr>\n",
       "      <th>4148</th>\n",
       "      <td>be82e7a8-9b0b-43cf-8943-44de914ae4b1</td>\n",
       "      <td>Photo courtesy of Kari Greer with the U.S. For...</td>\n",
       "      <td>Forest funds spread thin by wildfire</td>\n",
       "      <td>2018-09-01 02:24:51+00:00</td>\n",
       "      <td>[East Oregonian, East Oregonian (Pendleton, Or...</td>\n",
       "      <td>[d5803454-f243-550b-9cac-236270665507, a794f34...</td>\n",
       "      <td>[a45a6611-34fd-4318-8cf9-8f7bac4ab764, dd06d8f...</td>\n",
       "      <td>[7534d4a2-f1cc-51de-a5cd-7b5523fc9ec1, 6705285...</td>\n",
       "      <td>70b5c618-49c4-5145-8cce-6457eca87d67</td>\n",
       "      <td>Giles said the number of fires his team is cal...</td>\n",
       "    </tr>\n",
       "    <tr>\n",
       "      <th>3329</th>\n",
       "      <td>59fcece2-2901-4fef-aa9d-69a40d6c50b5</td>\n",
       "      <td>Don’t Let Normal Temperatures Fool You - Wildf...</td>\n",
       "      <td>Labor Day Weekend Brings Continual Fire Concerns</td>\n",
       "      <td>2018-09-01 03:00:19+00:00</td>\n",
       "      <td>[Calaveras Enterprise]</td>\n",
       "      <td>[a870f9a3-85ef-572c-9c5d-c69008403319, 2df053c...</td>\n",
       "      <td>[6ad9a6e1-8f2e-4405-af5d-65d183ca3dbf]</td>\n",
       "      <td>[04557f0b-9d0b-5ee4-b5d5-0422f3e5e233, 2ac73e0...</td>\n",
       "      <td>90471ba7-2ab0-5bc1-82be-989caec30b53</td>\n",
       "      <td>\"This year we have seen not only the largest w...</td>\n",
       "    </tr>\n",
       "    <tr>\n",
       "      <th>2464</th>\n",
       "      <td>6a17783f-3088-4575-97c5-b47faa22317f</td>\n",
       "      <td>For Steven Kozuki, the executive director of t...</td>\n",
       "      <td>Balance: Key to success in forest industry</td>\n",
       "      <td>2018-09-01 03:01:26+00:00</td>\n",
       "      <td>[Williams Lake Tribune]</td>\n",
       "      <td>[c6d99b21-6d2b-5d94-8b39-e0cd5e08ae4e, 6143a7d...</td>\n",
       "      <td>[41dccb7d-4ae1-4aad-8ecc-0757f3a7e219, 355e089...</td>\n",
       "      <td>[126d2560-d670-5c09-b076-fbec842decf6, 02422dc...</td>\n",
       "      <td>bee15480-1b53-5d1b-89fc-94031c53b170</td>\n",
       "      <td>Kozuki was in Williams Lake on Aug. 24 for the...</td>\n",
       "    </tr>\n",
       "    <tr>\n",
       "      <th>6142</th>\n",
       "      <td>a8e3d54f-6a69-4abb-a948-26a482b7a845</td>\n",
       "      <td>B.C. Wildfire crews are responding to a new wi...</td>\n",
       "      <td>UPDATE: Wildfire burning west of Okanagan Fall...</td>\n",
       "      <td>2018-09-01 04:31:30+00:00</td>\n",
       "      <td>[InfoNews.ca]</td>\n",
       "      <td>[60f38efe-beab-58c9-ae03-b6a4e9bad375]</td>\n",
       "      <td>[058929cd-f7dd-41a7-9052-9dfad8c04947]</td>\n",
       "      <td>[]</td>\n",
       "      <td>bf602e56-df4f-5e5a-8214-edc31be69d50</td>\n",
       "      <td>Wildfire crews are responding to a new wildfi...</td>\n",
       "    </tr>\n",
       "  </tbody>\n",
       "</table>\n",
       "</div>"
      ],
      "text/plain": [
       "                                  event_id  \\\n",
       "8718  a8e3d54f-6a69-4abb-a948-26a482b7a845   \n",
       "4148  be82e7a8-9b0b-43cf-8943-44de914ae4b1   \n",
       "3329  59fcece2-2901-4fef-aa9d-69a40d6c50b5   \n",
       "2464  6a17783f-3088-4575-97c5-b47faa22317f   \n",
       "6142  a8e3d54f-6a69-4abb-a948-26a482b7a845   \n",
       "\n",
       "                                                content  \\\n",
       "8718  CLOSED – #BCHwy97 in both direction 1 km north...   \n",
       "4148  Photo courtesy of Kari Greer with the U.S. For...   \n",
       "3329  Don’t Let Normal Temperatures Fool You - Wildf...   \n",
       "2464  For Steven Kozuki, the executive director of t...   \n",
       "6142  B.C. Wildfire crews are responding to a new wi...   \n",
       "\n",
       "                                                  title  \\\n",
       "8718  Update: Highway 97 closed as crews fight wildf...   \n",
       "4148               Forest funds spread thin by wildfire   \n",
       "3329   Labor Day Weekend Brings Continual Fire Concerns   \n",
       "2464         Balance: Key to success in forest industry   \n",
       "6142  UPDATE: Wildfire burning west of Okanagan Fall...   \n",
       "\n",
       "                          date  \\\n",
       "8718 2018-09-01 01:27:58+00:00   \n",
       "4148 2018-09-01 02:24:51+00:00   \n",
       "3329 2018-09-01 03:00:19+00:00   \n",
       "2464 2018-09-01 03:01:26+00:00   \n",
       "6142 2018-09-01 04:31:30+00:00   \n",
       "\n",
       "                                                sources  \\\n",
       "8718  [Revelstoke Times Review, Revelstoke Times Rev...   \n",
       "4148  [East Oregonian, East Oregonian (Pendleton, Or...   \n",
       "3329                             [Calaveras Enterprise]   \n",
       "2464                            [Williams Lake Tribune]   \n",
       "6142                                      [InfoNews.ca]   \n",
       "\n",
       "                                                 people  \\\n",
       "8718             [6002fee2-1381-560c-a955-0c5691680639]   \n",
       "4148  [d5803454-f243-550b-9cac-236270665507, a794f34...   \n",
       "3329  [a870f9a3-85ef-572c-9c5d-c69008403319, 2df053c...   \n",
       "2464  [c6d99b21-6d2b-5d94-8b39-e0cd5e08ae4e, 6143a7d...   \n",
       "6142             [60f38efe-beab-58c9-ae03-b6a4e9bad375]   \n",
       "\n",
       "                                          organizations  \\\n",
       "8718  [5074dfec-cba3-495d-8793-02bf28ce1395, 7ce95b9...   \n",
       "4148  [a45a6611-34fd-4318-8cf9-8f7bac4ab764, dd06d8f...   \n",
       "3329             [6ad9a6e1-8f2e-4405-af5d-65d183ca3dbf]   \n",
       "2464  [41dccb7d-4ae1-4aad-8ecc-0757f3a7e219, 355e089...   \n",
       "6142             [058929cd-f7dd-41a7-9052-9dfad8c04947]   \n",
       "\n",
       "                                              locations  \\\n",
       "8718                                                 []   \n",
       "4148  [7534d4a2-f1cc-51de-a5cd-7b5523fc9ec1, 6705285...   \n",
       "3329  [04557f0b-9d0b-5ee4-b5d5-0422f3e5e233, 2ac73e0...   \n",
       "2464  [126d2560-d670-5c09-b076-fbec842decf6, 02422dc...   \n",
       "6142                                                 []   \n",
       "\n",
       "                                        id  \\\n",
       "8718  83f536e8-fa10-5d49-ad50-2ad456f5cbf0   \n",
       "4148  70b5c618-49c4-5145-8cce-6457eca87d67   \n",
       "3329  90471ba7-2ab0-5bc1-82be-989caec30b53   \n",
       "2464  bee15480-1b53-5d1b-89fc-94031c53b170   \n",
       "6142  bf602e56-df4f-5e5a-8214-edc31be69d50   \n",
       "\n",
       "                                                summary  \n",
       "8718  Update 6:25 p.m.  Highway 97 near Okanagan Fal...  \n",
       "4148  Giles said the number of fires his team is cal...  \n",
       "3329  \"This year we have seen not only the largest w...  \n",
       "2464  Kozuki was in Williams Lake on Aug. 24 for the...  \n",
       "6142   Wildfire crews are responding to a new wildfi...  "
      ]
     },
     "execution_count": 72,
     "metadata": {},
     "output_type": "execute_result"
    }
   ],
   "source": [
    "def find_event(df, topic):\n",
    "    \"\"\" \n",
    "    Function to subset a corpus DataFrame to entries that contain the topic word.\n",
    "    :param df: pandas.DataFrame representing the document corpus.\n",
    "    :param topic: str representing the word to search for in the title, summary and content.\n",
    "    :returns: pandas.DataFrame of documents containing the requested topic.\n",
    "    \"\"\"\n",
    "    return df[(df['content'].str.contains(topic)) |\n",
    "              (df['summary'].str.contains(topic)) |\n",
    "              (df['title'].str.contains(topic))]\n",
    "\n",
    "\n",
    "topic = \"wildfire\"\n",
    "topic_df = find_event(df, topic)\n",
    "topic_df.head()"
   ]
  },
  {
   "cell_type": "markdown",
   "metadata": {},
   "source": [
    "## Build Daily Count of Topic Documents"
   ]
  },
  {
   "cell_type": "code",
   "execution_count": 73,
   "metadata": {
    "ExecuteTime": {
     "end_time": "2020-11-10T00:11:34.065222Z",
     "start_time": "2020-11-10T00:11:34.052463Z"
    }
   },
   "outputs": [],
   "source": [
    "# Create dataframe of just the document date.\n",
    "vols = topic_df[[\"date\"]].copy()\n",
    "vols.sort_values(\"date\", inplace=True)\n",
    "\n",
    "# Aggregate document count by year/month/day\n",
    "vols_counts = vols.groupby(\n",
    "    [vols[\"date\"].dt.year, vols[\"date\"].dt.month, vols[\"date\"].dt.day]).count()\n",
    "vols_counts.columns = [\"count\"]\n",
    "vols_counts.index.names = [\"years\", \"months\", \"days\"]\n",
    "\n",
    "# Extract volume counts and dates as arrays\n",
    "counts = vols_counts[\"count\"].to_numpy()\n",
    "dates = vols_counts.index"
   ]
  },
  {
   "cell_type": "markdown",
   "metadata": {},
   "source": [
    "## Smooth Daily Count to Identify Peaks\n",
    "A single windowed average was initially used to reduce the number of peaks in the volume count figure.  The single windowed average proved to have too many peaks to be useful, so a second windowed average was applied to the first."
   ]
  },
  {
   "cell_type": "code",
   "execution_count": 74,
   "metadata": {
    "ExecuteTime": {
     "end_time": "2020-11-10T00:11:34.076340Z",
     "start_time": "2020-11-10T00:11:34.066220Z"
    }
   },
   "outputs": [],
   "source": [
    "def windowed_average(arr, trail_entries, lead_entries):\n",
    "    \"\"\"\n",
    "    Function that does a sliding window average over an array of numerics.\n",
    "    :param arr: numpy.ndarray of numeric values to do sliding average over.\n",
    "    :param trail_entries: int representing the trailing number of entries to\n",
    "        include in window\n",
    "    :param lead_entries: int representing the leading number of entries to \n",
    "        include in window\n",
    "    :returns: numpy.ndarray of the windowed average of the given array\n",
    "    \"\"\"\n",
    "    windowed_avg = []\n",
    "    for idx in range(len(arr)):\n",
    "        start_idx = 0 if idx - trail_entries < 0 else idx - trail_entries\n",
    "        end_idx = len(arr) - 1 if idx + \\\n",
    "            lead_entries >= len(arr) else idx + lead_entries\n",
    "        window = arr[start_idx:end_idx+1]\n",
    "        avg = sum(window)/len(window)\n",
    "        windowed_avg.append(avg)\n",
    "\n",
    "    return np.array(windowed_avg)\n",
    "\n",
    "\n",
    "# TODO: Port tests to python unittest in production\n",
    "# Unit Test #1\n",
    "test_arr = np.array([0, 1, 2, 3, 4, 5, 6, 7, 8, 9, 10])\n",
    "test_res = windowed_average(test_arr, trail_entries=0, lead_entries=0)\n",
    "assert np.array_equal(\n",
    "    test_arr, test_res), \"windowed_average(): smoke test failed\"\n",
    "\n",
    "# Unit Test #1\n",
    "test_arr = np.array([0, 1, 2, 3, 4, 5, 6, 7, 8, 9, 10])\n",
    "test_res = windowed_average(test_arr, trail_entries=1, lead_entries=0)\n",
    "test_ans = np.array([0.0, .5, 1.5, 2.5, 3.5, 4.5, 5.5, 6.5, 7.5, 8.5, 9.5])\n",
    "assert np.array_equal(\n",
    "    test_ans, test_res), \"windowed_average(): trail_entries test failed\"\n",
    "\n",
    "# Unit Test #3\n",
    "test_arr = np.array([0, 1, 2, 3, 4, 5, 6, 7, 8, 9, 10])\n",
    "test_res = windowed_average(test_arr, trail_entries=1, lead_entries=1)\n",
    "test_ans = np.array([.5, 1, 2, 3, 4, 5, 6, 7, 8, 9, 9.5])\n",
    "assert np.array_equal(\n",
    "    test_ans, test_res), \"windowed_average(): lead_entries test failed\""
   ]
  },
  {
   "cell_type": "code",
   "execution_count": 75,
   "metadata": {
    "ExecuteTime": {
     "end_time": "2020-11-10T00:11:34.092297Z",
     "start_time": "2020-11-10T00:11:34.078336Z"
    }
   },
   "outputs": [],
   "source": [
    "trailing_days = 14\n",
    "leading_days = 14\n",
    "\n",
    "windowed_avg = windowed_average(counts, trailing_days, leading_days)\n",
    "double_windowed_avg = windowed_average(\n",
    "    windowed_avg, trailing_days, leading_days)\n",
    "\n",
    "ind_max = argrelextrema(double_windowed_avg, np.greater)\n",
    "maxvals = double_windowed_avg[ind_max]"
   ]
  },
  {
   "cell_type": "code",
   "execution_count": 76,
   "metadata": {
    "ExecuteTime": {
     "end_time": "2020-11-10T00:11:40.609076Z",
     "start_time": "2020-11-10T00:11:34.093993Z"
    }
   },
   "outputs": [
    {
     "data": {
      "image/png": "[encoded data removed]",
      "text/plain": [
       "<Figure size 1440x432 with 1 Axes>"
      ]
     },
     "metadata": {
      "needs_background": "light"
     },
     "output_type": "display_data"
    }
   ],
   "source": [
    "# Graph volume counts over time\n",
    "plt.figure(figsize=(20, 6))\n",
    "plt.title(\"%s Docs vs. Time\" % topic.title())\n",
    "plt.ylabel(\"Document Count\")\n",
    "date_labels = [datetime.strptime(x, \"%Y:%m:%d\").strftime(\n",
    "    \"%Y-%b-%d\") for x in [\"%d:%d:%d\" % tup for tup in vols_counts.index]]\n",
    "plt.bar([x for x in range(len(vols_counts.index))], vols_counts[\"count\"],\n",
    "        tick_label=date_labels, label=\"Volume Count (Daily)\")\n",
    "# plt.bar([x for x in range(len(vols_counts.index))], np.array(windowed_avg), label=\"Volume Count (Moving Avg.)\")\n",
    "plt.bar([x for x in range(len(vols_counts.index))], np.array(\n",
    "    double_windowed_avg), label=\"Volume Count (Dbl. Moving Avg.)\")\n",
    "plt.scatter(ind_max, maxvals, c=\"r\", marker=\"^\", linewidths=5, label=\"Peaks\")\n",
    "\n",
    "# Only display a date tick label every two weeks\n",
    "label_frequency = 14\n",
    "xticks = plt.gca().xaxis.get_major_ticks()\n",
    "for i in range(len(xticks)):\n",
    "    if i % label_frequency != 0:\n",
    "        xticks[i].set_visible(False)\n",
    "plt.xticks(rotation=(90))\n",
    "plt.legend()\n",
    "plt.show()"
   ]
  },
  {
   "cell_type": "markdown",
   "metadata": {},
   "source": [
    "The graph above reflects a time series of document volume count for the topic \"wildfire\".  All documents that contained the the topic in the title, summary or content are represented in the series.  A double moving average (in orange) was used to smooth out and identify approximate locations for the peaks of the daily document count (in blue).  "
   ]
  },
  {
   "cell_type": "markdown",
   "metadata": {},
   "source": [
    "# Event Overviews\n",
    "## Build Event Windows Around Peaks"
   ]
  },
  {
   "cell_type": "code",
   "execution_count": 77,
   "metadata": {
    "ExecuteTime": {
     "end_time": "2020-11-10T00:11:40.617488Z",
     "start_time": "2020-11-10T00:11:40.610049Z"
    }
   },
   "outputs": [
    {
     "name": "stdout",
     "output_type": "stream",
     "text": [
      "Event Window: 11/03/2018 - 11/24/2018\n",
      "Event Window: 01/15/2019 - 02/05/2019\n",
      "Event Window: 05/17/2019 - 06/07/2019\n",
      "Event Window: 06/27/2019 - 07/18/2019\n",
      "Event Window: 07/08/2019 - 07/29/2019\n",
      "Event Window: 10/14/2019 - 11/04/2019\n",
      "Event Window: 11/20/2019 - 12/11/2019\n",
      "Event Window: 01/23/2020 - 02/13/2020\n",
      "Event Window: 04/23/2020 - 05/14/2020\n",
      "Event Window: 06/10/2020 - 07/01/2020\n"
     ]
    }
   ],
   "source": [
    "trailing_time = timedelta(weeks=2)\n",
    "leading_time = timedelta(weeks=1)\n",
    "\n",
    "event_windows = []\n",
    "for date_tup in dates[ind_max[0]]:\n",
    "    peak_date = datetime(\n",
    "        year=date_tup[0], month=date_tup[1], day=date_tup[2], tzinfo=timezone.utc)\n",
    "    window_start_date = peak_date - trailing_time\n",
    "    window_end_date = peak_date + leading_time\n",
    "    event_windows.append((window_start_date, window_end_date, peak_date))\n",
    "    print(\"Event Window: %s - %s\" % (window_start_date.strftime(\"%m/%d/%Y\"),\n",
    "                                     window_end_date.strftime(\"%m/%d/%Y\")))"
   ]
  },
  {
   "cell_type": "markdown",
   "metadata": {},
   "source": [
    "## Analyze Titles of Documents\n",
    "The strategy for creating an overview will involve extracting the most common words from all the document titles from each event period and picking stories that use those words."
   ]
  },
  {
   "cell_type": "code",
   "execution_count": 106,
   "metadata": {
    "ExecuteTime": {
     "end_time": "2020-11-10T02:10:57.994599Z",
     "start_time": "2020-11-10T02:10:57.986585Z"
    },
    "code_folding": []
   },
   "outputs": [],
   "source": [
    "def normalize_str(raw_str):\n",
    "    \"\"\"\n",
    "    Function that takes a raw string representing a document title, summary or content,\n",
    "    removes the punctuation, symbols, escape characters etc and breaks it down to a \n",
    "    list of lower case, singular case words.\n",
    "    :param raw_str: str parsed from a document or json\n",
    "    :returns: list of str with lower case, singular versions of the words found in \n",
    "        the raw_str\n",
    "    \"\"\"\n",
    "\n",
    "    # Build set of common english stopwords\n",
    "    ss = set(stopwords.words('english'))\n",
    "    ss.add(\"the\")  # Why this isn't in there mystifies me\n",
    "\n",
    "    # Keep only letters, numbers and the space.\n",
    "    keywords_only_alphanum = re.sub(r'[^a-zA-Z0-9 ]', '', raw_str)\n",
    "\n",
    "    # Lowercase and depluralize\n",
    "    # TODO: figure out a better solution for California signularizing to 'californium'\n",
    "    keywords_lowercase = [x.lower() for x in keywords_only_alphanum.split()]\n",
    "    keywords_singular = [inf.singularize(x) for x in keywords_lowercase if x not in [\n",
    "        \"california\", \"alberta\"]]\n",
    "    \n",
    "    # TODO: Consider proper lemmatization and stemming\n",
    "\n",
    "    # Remove common English stopwords\n",
    "    keywords_no_stopwords = [x for x in keywords_singular if x not in ss]\n",
    "\n",
    "    return keywords_no_stopwords\n",
    "\n",
    "# Unit Test\n",
    "# Should exclude watchwords: is, a, only, I, through, my, me, the\n",
    "# Check singularization with chains\n",
    "test_str = \"Peace is a lie. \\\n",
    "            There is only Passion. \\\n",
    "            Through Passion I gain Strength. \\\n",
    "            Through Strength I gain Power. \\\n",
    "            Through Power I gain Victory. \\\n",
    "            Through Victory my chains are Broken. \\\n",
    "            The Force shall free me.\"\n",
    "test_res = normalize_str(test_str)\n",
    "assert len(test_res) == 18\n",
    "assert \"chains\" not in test_res and \"chain\" in test_res"
   ]
  },
  {
   "cell_type": "code",
   "execution_count": 79,
   "metadata": {
    "ExecuteTime": {
     "end_time": "2020-11-10T00:11:40.644623Z",
     "start_time": "2020-11-10T00:11:40.628995Z"
    },
    "code_folding": []
   },
   "outputs": [],
   "source": [
    "def extract_keywords(series_of_words, appearance_threshold=3):\n",
    "    \"\"\"\n",
    "    Function that creates a basic bag of words based on a Pandas Series of strings.  Can\n",
    "    filter words with multiplicity less than or equal to a threshold.\n",
    "    :param series_of_words: pandas.Series representing a corpus of documents.\n",
    "    :param appearance_threshold: int, the multiplicity at or below which a word is excluded\n",
    "        from the counting.\n",
    "    :raises ValueError: if appearance_threshold <= 0\n",
    "    :raises TypeError: if appearance_threshold is not integer\n",
    "    :returns collections.Counter of the words whose count exceeds appearance_threshold\n",
    "    \"\"\"\n",
    "    if not isinstance(appearance_threshold, int):\n",
    "        raise TypeError(\"extract_keywords(): threshold for word multiplicity must be given as integer, received %s\" %\n",
    "                        str(type(appearance_threshold)))\n",
    "    if appearance_threshold <= 0:\n",
    "        raise ValueError(\n",
    "            \"extract_keywords(): threshold for word multiplicity must be greater than 0.\")\n",
    "\n",
    "    # Build set of common english stopwords\n",
    "    ss = set(stopwords.words('english'))\n",
    "    ss.add(\"the\")  # Why this isn't in there mystifies me\n",
    "\n",
    "    keywords = \" \".join(series_of_words)\n",
    "    keywords_no_stopwords = normalize_str(keywords)\n",
    "\n",
    "    # Count words, bag of words style\n",
    "    keywords_counter = Counter(keywords_no_stopwords)\n",
    "    keywords_important = Counter(\n",
    "        {k: v for k, v in keywords_counter.items() if v > appearance_threshold})\n",
    "\n",
    "    return keywords_important\n",
    "\n",
    "\n",
    "# Unit Test #1\n",
    "# 'all' is a stopword and shouldn't appear in the results\n",
    "test_series = pd.Series(\n",
    "    [\"all\", \"all boys\", \"all boys cook\", \"all boys cook dinner\"])\n",
    "test_res = extract_keywords(test_series, appearance_threshold=1)\n",
    "assert test_res.keys() == {\"boy\", \"cook\"}\n",
    "assert test_res[\"boy\"] == 3\n",
    "assert test_res[\"cook\"] == 2\n",
    "\n",
    "# Unit Test #2\n",
    "# Test of the appearance threshold\n",
    "test_series = pd.Series(\n",
    "    [\"all\", \"all boys\", \"all boys cook\", \"all boys cook dinner\"])\n",
    "test_res = extract_keywords(test_series, appearance_threshold=2)\n",
    "assert test_res.keys() == {\"boy\"}\n",
    "assert test_res[\"boy\"] == 3\n",
    "\n",
    "# Unit Test #3\n",
    "# Test of the depluralizer\n",
    "test_series = pd.Series(\n",
    "    [\"boy\", \"all boys\", \"all boys cook\", \"all boys cook boys\"])\n",
    "test_res = extract_keywords(test_series, appearance_threshold=2)\n",
    "assert test_res.keys() == {\"boy\"}\n",
    "assert test_res[\"boy\"] == 5\n",
    "\n",
    "# Unit Test #4\n",
    "# Test the ducktyping of the input data\n",
    "test_series = [\"boy\", \"all boys\", \"all boys cook\", \"all boys cook boys\"]\n",
    "test_res = extract_keywords(test_series, appearance_threshold=2)\n",
    "assert test_res.keys() == {\"boy\"}\n",
    "assert test_res[\"boy\"] == 5\n",
    "\n",
    "# # TODO: Port test code into python unittest framework during production\n",
    "# # Unit Test #5\n",
    "# # Test the exceptions\n",
    "# test_series = [\"boy\", \"all boys\", \"all boys cook\", \"all boys cook boys\"]\n",
    "# test_res = extract_keywords(test_series, appearance_threshold = 1.2)\n",
    "# test_res = extract_keywords(test_series, appearance_threshold = -1)"
   ]
  },
  {
   "cell_type": "code",
   "execution_count": 89,
   "metadata": {
    "ExecuteTime": {
     "end_time": "2020-11-10T01:39:18.262419Z",
     "start_time": "2020-11-10T01:39:16.344727Z"
    },
    "scrolled": true
   },
   "outputs": [
    {
     "name": "stdout",
     "output_type": "stream",
     "text": [
      "\n",
      "Peak Date: 11/17/2018\n",
      "Event Window: 11/03/2018 - 11/23/2018\n",
      "Top 5 topics: wildfire, fire, season, pge, smoke\n",
      "\tThe Latest: Northern California blaze nears city of 90,000...\n",
      "\tBaltimore mayor picks Fort Worth chief as next top cop...\n",
      "\tCorrection: SAP-Qualtrics story...\n",
      "\tPhotos: California wildfire claims 5 lives, quadruples in size...\n",
      "\tDaring Rescues and Devastating Destruction: See the Most Shocking Photos of the California Fires...\n",
      "\n",
      "Peak Date: 01/29/2019\n",
      "Event Window: 01/15/2019 - 02/04/2019\n",
      "Top 5 topics: wildfire, fire, camp, home, toll\n",
      "\tFitch Downgrades PG&E Corp and Utility Sub to 'BBB-' on Negative Watch...\n",
      "\tBailout doubt – PG&E faces bankruptcy amid California's first \"climate change-caused emergency\"...\n",
      "\tJan 29, 2019, 10:57 am PST Watchdog: PUC Must Go After Giving $6 Billion Credit Line To PG&E Pre-Ban...\n",
      "\tDecide: PG&E put income over wildfire security...\n",
      "\tFireSmart Launches New Website for B.C. Residents and Communities...\n",
      "\n",
      "Peak Date: 05/31/2019\n",
      "Event Window: 05/17/2019 - 06/06/2019\n",
      "Top 5 topics: wildfire, pge, bankruptcy, fire, utility\n",
      "\tPrescribed burning to combat wildfires has not increased in the U.S. West...\n",
      "\tAfter Paradise, Living With Fire Means Redefining Resilience...\n",
      "\tIt’s Getting Worse...\n",
      "\tSenator Dodd, Commissioner Lara, Treasurer Ma Launch California Disaster Insurance Bill to Stabilize...\n",
      "\tPG&E customers concerned with power safety shutoffs...\n",
      "\n",
      "Peak Date: 07/11/2019\n",
      "Event Window: 06/27/2019 - 07/17/2019\n",
      "Top 5 topics: wildfire, fire, season, high, level\n",
      "\tPG&E Receives Court Approval of Bar Date; Will Provide Broad Public Notice of Process for Filing Cla...\n",
      "\tCompeting political, financial PG&E bankruptcy solutions face July deadlines...\n",
      "\tAnother smoky summer forecast for Tri-Cities. Federal help is proposed...\n",
      "\n",
      "Peak Date: 07/22/2019\n",
      "Event Window: 07/08/2019 - 07/28/2019\n",
      "Top 5 topics: wildfire, fire, pge, utility, fund\n",
      "\tPG&E is Updating Contact Information for Public Safety Power Shutoffs...\n",
      "\tIn Greece, floating candles mark anniversary of deadly fire...\n",
      "\tFiring up an air pollution problem...\n",
      "\tPortugal wildfires: Shock pictures as fires devastate central Portugal - 8 injured...\n",
      "\tCompeting political, financial PG&E bankruptcy solutions face July deadlines...\n",
      "\n",
      "Peak Date: 10/28/2019\n",
      "Event Window: 10/14/2019 - 11/03/2019\n",
      "Top 5 topics: wildfire, fire, utility, fund, pge\n",
      "\tFires rage as southern California grapples with 'extreme red flag' weather conditions...\n",
      "\t-PGE Reiterates Commitment to Its Plan of Reorganization; Is Confident that Its Plan Is the Best Sol...\n",
      "\tGOVERNOR NEWSOM ASKS CPUC TO REFORM POWER SHUT-OFF RULES, PENALIZE UTILITIES FOR EXCESSIVE OUTAGES A...\n",
      "\tThe Latest: Most evacuations lift near 1 fire in Los Angeles...\n",
      "\n",
      "Peak Date: 12/04/2019\n",
      "Event Window: 11/20/2019 - 12/10/2019\n",
      "Top 5 topics: wildfire, fire, pge, power, new\n",
      "\tPG&E Struggles to Find a Way Out of Bankruptcy...\n",
      "\tFast-moving fire threatens Santa Barbara County...\n",
      "\tPG&E CORP: Reiterates Commitment to Reorganization Plan...\n",
      "\n",
      "Peak Date: 02/06/2020\n",
      "Event Window: 01/23/2020 - 02/12/2020\n",
      "Top 5 topics: wildfire, pge, fire, victim, insurance\n",
      "\tEshoo Demands Accountability from PGandE at Congressional Hearing; Rep. Anna G. Eshoo (D-CA) News Re...\n",
      "\tPublic Safety Power Shutoffs: How Utilities Could Partner...\n",
      "\tPG&E power line parts found wrapped in tape, fire victims say...\n",
      "\tFire-severity mitigation by prescribed burning assessed from fire-treatment encounters in maritime p...\n",
      "\n",
      "Peak Date: 05/07/2020\n",
      "Event Window: 04/23/2020 - 05/13/2020\n",
      "Top 5 topics: wildfire, pge, fire, plan, power\n",
      "\tLong-term efficacy of managed wildfires in restoration efforts...\n",
      "\tPG&E CORP: Outlines New Commitments to Reorganization Plan...\n",
      "\tPG&E blackouts during coronavirus pandemic could be 'a nightmare scenario'...\n",
      "\n",
      "Peak Date: 06/24/2020\n",
      "Event Window: 06/10/2020 - 06/30/2020\n",
      "Top 5 topics: wildfire, fire, season, pge, risk\n",
      "\tWildfire smoke has immediate harmful health effects: study...\n",
      "\tFloods follow fires: How leaders are preparing for monsoon season with bighorn fire...\n",
      "\tPG&E Strengthening Community Resilience with Comprehensive Microgrid Solutions...\n",
      "\tYour Coronavirus Risk Is Even Higher in These States. Here's Why....\n",
      "\tMoody's assigns Baa3 rating to Pacific Gas & Electric's first mortgage bonds and B1 rating to PG&E C...\n"
     ]
    }
   ],
   "source": [
    "# Restrict the number of stories/categories per event period to this number\n",
    "top_stories_per_period = 5\n",
    "title_max_char = 100\n",
    "\n",
    "for event_window in event_windows:\n",
    "\n",
    "    # Format the event header\n",
    "    event = df[(df[\"date\"] > event_window[0]) & (df[\"date\"] < event_window[1])]\n",
    "    start_date = event[\"date\"].iloc[0].strftime(\"%m/%d/%Y\")\n",
    "    end_date = event[\"date\"].iloc[-1].strftime(\"%m/%d/%Y\")\n",
    "    peak_date = event_window[2].strftime(\"%m/%d/%Y\")\n",
    "    print()\n",
    "    print(\"Peak Date: %s\" % str(peak_date))\n",
    "    print(\"Event Window: %s - %s\" % (start_date, end_date))\n",
    "    print(\"Top %d topics: %s\" %\n",
    "          (top_stories_per_period,  \", \".join(most_common_words)))\n",
    "\n",
    "    # Analyze titles\n",
    "    title_words = extract_keywords(event[\"title\"])\n",
    "    most_common_words = [x[0]\n",
    "                         for x in title_words.most_common()[:top_stories_per_period]]\n",
    "\n",
    "    # Treat the top most-common words as categories within an event period\n",
    "    top_stories = []\n",
    "    for mcw_idx, most_common_word in enumerate(most_common_words):\n",
    "\n",
    "        # Build a sub-DataFrame of the 'most_common_word' category\n",
    "        word_df = find_event(event, most_common_word)\n",
    "\n",
    "        # Complicated way to increase chances of getting a story that doesn't\n",
    "        # relate to a previous category\n",
    "        # TODO: Update this with a cosine similarity approach and treat more similar\n",
    "        # to gramm-schmidt orthogonalization\n",
    "        if mcw_idx > 0:\n",
    "            used_words = most_common_words[0:mcw_idx]\n",
    "            new_used_words = used_words[:]\n",
    "            for used_word in used_words:\n",
    "                new_used_words.append(used_word)\n",
    "                new_used_words.append(used_word.title())\n",
    "                new_used_words.append(used_word.lower())\n",
    "                new_used_words.append(\"%ss\" % used_word)\n",
    "                new_used_words.append(\"%ss\" % used_word.title())\n",
    "            new_used_words = list(set(new_used_words))\n",
    "            word_df = word_df[~word_df[\"title\"].str.contains(\n",
    "                \"|\".join(new_used_words))]\n",
    "\n",
    "        # Build a count of how many times the category word appears in the category\n",
    "        # content as a proxy for relevance\n",
    "        word_df[\"relevance\"] = word_df[\"content\"].apply(\n",
    "            lambda x: sum([y in most_common_word for y in x.split(\" \")]))\n",
    "        word_df = word_df.sort_values(\"relevance\")\n",
    "        top_story_title = word_df.iloc[-1][\"title\"]\n",
    "        top_stories.append(top_story_title)\n",
    "\n",
    "    top_stories = list(set(top_stories))\n",
    "    for top_story in top_stories:\n",
    "        print(\"\\t%s...\" % top_story[0:title_max_char])"
   ]
  },
  {
   "cell_type": "markdown",
   "metadata": {},
   "source": [
    "Above is a report of the top stories discerned from around the peaks of wildfire activity.  Unsurprisingly, wildfires tend to dominate the top stories.  An attempt was made to try and remove commonality between the top-five stories, but usually with little success."
   ]
  },
  {
   "cell_type": "markdown",
   "metadata": {},
   "source": [
    "# Topic Geotracker\n",
    "Our attempt at a new feature will be a display of the locations of events related to a single topic.  We'll set out to take a sub-corpus related to a certain topic and show the progression through time, on a map, of where they play out. "
   ]
  },
  {
   "cell_type": "markdown",
   "metadata": {},
   "source": [
    "## Load Location Data"
   ]
  },
  {
   "cell_type": "code",
   "execution_count": 95,
   "metadata": {
    "ExecuteTime": {
     "end_time": "2020-11-10T01:56:13.602240Z",
     "start_time": "2020-11-10T01:56:13.567335Z"
    }
   },
   "outputs": [],
   "source": [
    "with open(os.path.join(\"data\", 'entities_meta.json')) as json_file:\n",
    "    entities_data = json.load(json_file)"
   ]
  },
  {
   "cell_type": "code",
   "execution_count": 82,
   "metadata": {
    "ExecuteTime": {
     "end_time": "2020-11-10T00:11:42.646896Z",
     "start_time": "2020-11-10T00:11:42.612060Z"
    }
   },
   "outputs": [
    {
     "data": {
      "text/html": [
       "<div>\n",
       "<style scoped>\n",
       "    .dataframe tbody tr th:only-of-type {\n",
       "        vertical-align: middle;\n",
       "    }\n",
       "\n",
       "    .dataframe tbody tr th {\n",
       "        vertical-align: top;\n",
       "    }\n",
       "\n",
       "    .dataframe thead th {\n",
       "        text-align: right;\n",
       "    }\n",
       "</style>\n",
       "<table border=\"1\" class=\"dataframe\">\n",
       "  <thead>\n",
       "    <tr style=\"text-align: right;\">\n",
       "      <th></th>\n",
       "      <th>id</th>\n",
       "      <th>name</th>\n",
       "      <th>resolution</th>\n",
       "      <th>latitude</th>\n",
       "      <th>longitude</th>\n",
       "    </tr>\n",
       "  </thead>\n",
       "  <tbody>\n",
       "    <tr>\n",
       "      <th>1</th>\n",
       "      <td>00280ed9-ad1a-5488-9a03-66e334a20b0e</td>\n",
       "      <td>Millbrook</td>\n",
       "      <td>CITY</td>\n",
       "      <td>32.47986</td>\n",
       "      <td>-86.36192</td>\n",
       "    </tr>\n",
       "    <tr>\n",
       "      <th>3</th>\n",
       "      <td>003d6193-0799-53b0-925e-e0754380769e</td>\n",
       "      <td>Vacaville</td>\n",
       "      <td>CITY</td>\n",
       "      <td>38.35658</td>\n",
       "      <td>-121.98774</td>\n",
       "    </tr>\n",
       "    <tr>\n",
       "      <th>5</th>\n",
       "      <td>00bd819b-bc84-5d5f-bb4f-dc24c012e53c</td>\n",
       "      <td>Sunset</td>\n",
       "      <td>CITY</td>\n",
       "      <td>25.70594</td>\n",
       "      <td>-80.35228</td>\n",
       "    </tr>\n",
       "    <tr>\n",
       "      <th>6</th>\n",
       "      <td>00c47385-70e0-5294-98a8-6cf4bd87984e</td>\n",
       "      <td>Lake City</td>\n",
       "      <td>CITY</td>\n",
       "      <td>30.18968</td>\n",
       "      <td>-82.63929</td>\n",
       "    </tr>\n",
       "    <tr>\n",
       "      <th>7</th>\n",
       "      <td>00caf87b-04e4-59f0-9ea6-f6a1ca2df90e</td>\n",
       "      <td>Payson</td>\n",
       "      <td>CITY</td>\n",
       "      <td>40.04440</td>\n",
       "      <td>-111.73215</td>\n",
       "    </tr>\n",
       "  </tbody>\n",
       "</table>\n",
       "</div>"
      ],
      "text/plain": [
       "                                     id       name resolution  latitude  \\\n",
       "1  00280ed9-ad1a-5488-9a03-66e334a20b0e  Millbrook       CITY  32.47986   \n",
       "3  003d6193-0799-53b0-925e-e0754380769e  Vacaville       CITY  38.35658   \n",
       "5  00bd819b-bc84-5d5f-bb4f-dc24c012e53c     Sunset       CITY  25.70594   \n",
       "6  00c47385-70e0-5294-98a8-6cf4bd87984e  Lake City       CITY  30.18968   \n",
       "7  00caf87b-04e4-59f0-9ea6-f6a1ca2df90e     Payson       CITY  40.04440   \n",
       "\n",
       "   longitude  \n",
       "1  -86.36192  \n",
       "3 -121.98774  \n",
       "5  -80.35228  \n",
       "6  -82.63929  \n",
       "7 -111.73215  "
      ]
     },
     "execution_count": 82,
     "metadata": {},
     "output_type": "execute_result"
    }
   ],
   "source": [
    "locs_df = pd.json_normalize(entities_data[\"locations\"])\n",
    "locs_df = locs_df.dropna()\n",
    "locs_df.head()"
   ]
  },
  {
   "cell_type": "markdown",
   "metadata": {},
   "source": [
    "## Merge Location Data into Document DataFrame"
   ]
  },
  {
   "cell_type": "code",
   "execution_count": 83,
   "metadata": {
    "ExecuteTime": {
     "end_time": "2020-11-10T00:11:56.885208Z",
     "start_time": "2020-11-10T00:11:42.647892Z"
    }
   },
   "outputs": [],
   "source": [
    "def id_to_ll(list_of_ids):\n",
    "    \"\"\"\n",
    "    Function to convert a list of location IDs into shapely Points for plotting.\n",
    "    :param list_of_ids: list of str, where each str represents an ID of a location in the\n",
    "        corpus\n",
    "    :returns: list of shapely.Point\n",
    "    \"\"\"\n",
    "    lls = []\n",
    "    for idnt in list_of_ids:\n",
    "        location = locs_df[locs_df[\"id\"] == idnt]\n",
    "        try:\n",
    "            lls.append(\n",
    "                Point(location[\"longitude\"].iloc[0], location[\"latitude\"].iloc[0]))\n",
    "        except:\n",
    "            pass\n",
    "    return lls\n",
    "\n",
    "\n",
    "locs = topic_df[\"locations\"].apply(id_to_ll)"
   ]
  },
  {
   "cell_type": "code",
   "execution_count": 97,
   "metadata": {
    "ExecuteTime": {
     "end_time": "2020-11-10T01:56:48.895887Z",
     "start_time": "2020-11-10T01:56:48.850009Z"
    }
   },
   "outputs": [],
   "source": [
    "dates = topic_df[\"date\"]\n",
    "states = geopandas.read_file(os.path.join(\"data\", 'usa-states-census-2014.shp'))"
   ]
  },
  {
   "cell_type": "markdown",
   "metadata": {},
   "source": [
    "## Build Animation of Topical Events"
   ]
  },
  {
   "cell_type": "code",
   "execution_count": 99,
   "metadata": {
    "ExecuteTime": {
     "end_time": "2020-11-10T01:58:00.636758Z",
     "start_time": "2020-11-10T01:57:58.368881Z"
    }
   },
   "outputs": [
    {
     "data": {
      "image/png": "[encoded data removed]",
      "text/plain": [
       "<Figure size 432x288 with 1 Axes>"
      ]
     },
     "metadata": {
      "needs_background": "light"
     },
     "output_type": "display_data"
    }
   ],
   "source": [
    "fig, ax = plt.subplots()\n",
    "fig.set_tight_layout(True)\n",
    "ax.set_title(\"Wildfire Events in Western USA\")\n",
    "\n",
    "# TODO: Be real, analyze the sub-corpus and set the limits based on the min/max of the locations.\n",
    "ax.set_xlim([-130, -100])\n",
    "ax.set_ylim([30, 50])\n",
    "ax.set_xlabel(\"Longitude\")\n",
    "ax.set_ylabel(\"Latitude\")\n",
    "states.plot(ax=ax)\n",
    "\n",
    "\n",
    "def update(i):\n",
    "    xs = [p.x for p in locs[i]]\n",
    "    ys = [p.y for p in locs[i]]\n",
    "    ax.scatter(xs, ys, c=\"r\", marker=\"X\")\n",
    "    anchored_text = AnchoredText(str(dates.iloc[i]), loc=2)\n",
    "    ax.add_artist(anchored_text)\n",
    "    return ax\n",
    "\n",
    "#TODO: This method is super slow and terrible.  Ultimately this would be replaced in production\n",
    "# by something color like some javascript stuff.\n",
    "anim = FuncAnimation(fig, update, frames=np.arange(0, 662), interval=500)\n",
    "\n",
    "anim.save(os.path.join(\"outputs\", 'wildfires_persistent_example.gif'), dpi=80, writer='imagemagick')"
   ]
  },
  {
   "cell_type": "markdown",
   "metadata": {},
   "source": [
    "The topic \"wildfire\" was present in many documents contained in the corpus.  The animation generated here represents the occurrence and geolocation of the event as time unfolds.  The time of the events appears in the upper left corner of the animation.  "
   ]
  },
  {
   "cell_type": "markdown",
   "metadata": {},
   "source": [
    "![SegmentLocal](wildfires_persistent.gif \"segment\")"
   ]
  }
 ],
 "metadata": {
  "kernelspec": {
   "display_name": "Python 3",
   "language": "python",
   "name": "python3"
  },
  "language_info": {
   "codemirror_mode": {
    "name": "ipython",
    "version": 3
   },
   "file_extension": ".py",
   "mimetype": "text/x-python",
   "name": "python",
   "nbconvert_exporter": "python",
   "pygments_lexer": "ipython3",
   "version": "3.7.4"
  },
  "toc": {
   "base_numbering": 1,
   "nav_menu": {},
   "number_sections": true,
   "sideBar": true,
   "skip_h1_title": false,
   "title_cell": "Table of Contents",
   "title_sidebar": "Contents",
   "toc_cell": false,
   "toc_position": {},
   "toc_section_display": true,
   "toc_window_display": true
  }
 },
 "nbformat": 4,
 "nbformat_minor": 2
}
